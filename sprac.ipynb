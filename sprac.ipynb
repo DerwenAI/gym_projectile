{
 "cells": [
  {
   "cell_type": "markdown",
   "metadata": {},
   "source": [
    "import the Python libraries"
   ]
  },
  {
   "cell_type": "code",
   "execution_count": 27,
   "metadata": {},
   "outputs": [],
   "source": [
    "import numpy as np\n",
    "import random"
   ]
  },
  {
   "cell_type": "markdown",
   "metadata": {},
   "source": [
    "set the parameters"
   ]
  },
  {
   "cell_type": "code",
   "execution_count": 28,
   "metadata": {},
   "outputs": [],
   "source": [
    "DEBUG = False # True\n",
    "\n",
    "N_ITER = 500000\n",
    "MAX_POSITION = 28"
   ]
  },
  {
   "cell_type": "markdown",
   "metadata": {},
   "source": [
    "initialize data structures"
   ]
  },
  {
   "cell_type": "code",
   "execution_count": 29,
   "metadata": {},
   "outputs": [],
   "source": [
    "count = np.zeros(( round(MAX_POSITION / 3), MAX_POSITION ))\n",
    "denom = np.zeros(( round(MAX_POSITION / 3) ))"
   ]
  },
  {
   "cell_type": "markdown",
   "metadata": {},
   "source": [
    "run the simulation"
   ]
  },
  {
   "cell_type": "code",
   "execution_count": 30,
   "metadata": {},
   "outputs": [],
   "source": [
    "for step in range(N_ITER):\n",
    "    position = 0\n",
    "    roll = 1\n",
    "\n",
    "    while position < MAX_POSITION:\n",
    "        die1 = random.randint(1, 6)\n",
    "        die2 = random.randint(1, 6)\n",
    "\n",
    "        if DEBUG:\n",
    "            print(step, roll, position, die1, die2)\n",
    "\n",
    "        position = min(position + die1 + die2, MAX_POSITION)\n",
    "\n",
    "        count[roll - 1][position - 1] += 1.0\n",
    "        roll += 1\n",
    "\n",
    "    denom[roll - 2] += 1.0\n",
    "\n",
    "    if DEBUG:\n",
    "        print(f\"done @ step {step}\")"
   ]
  },
  {
   "cell_type": "markdown",
   "metadata": {},
   "source": [
    "report the results"
   ]
  },
  {
   "cell_type": "code",
   "execution_count": 31,
   "metadata": {},
   "outputs": [
    {
     "name": "stdout",
     "output_type": "stream",
     "text": [
      "500000.0 total rolls of two dice\n"
     ]
    }
   ],
   "source": [
    "n_rolls = np.sum(denom)\n",
    "print(f\"{n_rolls} total rolls of two dice\")"
   ]
  },
  {
   "cell_type": "code",
   "execution_count": 32,
   "metadata": {},
   "outputs": [
    {
     "name": "stdout",
     "output_type": "stream",
     "text": [
      "[0.00000e+00 0.00000e+00 6.12380e-02 4.79684e-01 3.75920e-01 7.67740e-02\n",
      " 6.20400e-03 1.80000e-04 0.00000e+00]\n"
     ]
    }
   ],
   "source": [
    "print(denom / n_rolls)"
   ]
  },
  {
   "cell_type": "code",
   "execution_count": 33,
   "metadata": {},
   "outputs": [
    {
     "name": "stdout",
     "output_type": "stream",
     "text": [
      "[[0.00000e+00 2.78300e-02 5.51240e-02 8.36400e-02 1.11756e-01 1.38888e-01\n",
      "  1.66516e-01 1.38784e-01 1.10574e-01 8.34060e-02 5.58860e-02 2.75960e-02\n",
      "  0.00000e+00 0.00000e+00 0.00000e+00 0.00000e+00 0.00000e+00 0.00000e+00\n",
      "  0.00000e+00 0.00000e+00 0.00000e+00 0.00000e+00 0.00000e+00 0.00000e+00\n",
      "  0.00000e+00 0.00000e+00 0.00000e+00 0.00000e+00]\n",
      " [0.00000e+00 0.00000e+00 0.00000e+00 8.08000e-04 3.04800e-03 7.84400e-03\n",
      "  1.56300e-02 2.71640e-02 4.31440e-02 6.18640e-02 7.98840e-02 9.60740e-02\n",
      "  1.07538e-01 1.12426e-01 1.07568e-01 9.66820e-02 8.04640e-02 6.20180e-02\n",
      "  4.35560e-02 2.73620e-02 1.55980e-02 7.47400e-03 3.10800e-03 7.46000e-04\n",
      "  0.00000e+00 0.00000e+00 0.00000e+00 0.00000e+00]\n",
      " [0.00000e+00 0.00000e+00 0.00000e+00 0.00000e+00 0.00000e+00 1.20000e-05\n",
      "  1.22000e-04 4.48000e-04 1.20600e-03 2.80000e-03 5.54000e-03 9.75400e-03\n",
      "  1.62580e-02 2.50660e-02 3.56300e-02 4.80460e-02 6.04380e-02 7.34540e-02\n",
      "  8.39960e-02 9.00880e-02 9.22600e-02 9.05420e-02 8.40360e-02 7.35220e-02\n",
      "  6.13800e-02 4.85960e-02 3.55680e-02 6.12380e-02]\n",
      " [0.00000e+00 0.00000e+00 0.00000e+00 0.00000e+00 0.00000e+00 0.00000e+00\n",
      "  0.00000e+00 0.00000e+00 6.00000e-06 1.80000e-05 6.80000e-05 2.06000e-04\n",
      "  4.76000e-04 1.06000e-03 1.99400e-03 3.70600e-03 6.12200e-03 1.02320e-02\n",
      "  1.52060e-02 2.16040e-02 2.99100e-02 3.93800e-02 4.91400e-02 5.91980e-02\n",
      "  6.70940e-02 7.44320e-02 7.92260e-02 4.79684e-01]\n",
      " [0.00000e+00 0.00000e+00 0.00000e+00 0.00000e+00 0.00000e+00 0.00000e+00\n",
      "  0.00000e+00 0.00000e+00 0.00000e+00 0.00000e+00 2.00000e-06 4.00000e-06\n",
      "  2.00000e-06 1.60000e-05 3.20000e-05 6.60000e-05 1.94000e-04 3.98000e-04\n",
      "  7.48000e-04 1.43000e-03 2.47600e-03 4.01600e-03 6.28600e-03 9.42200e-03\n",
      "  1.37580e-02 1.90660e-02 2.52420e-02 3.75920e-01]\n",
      " [0.00000e+00 0.00000e+00 0.00000e+00 0.00000e+00 0.00000e+00 0.00000e+00\n",
      "  0.00000e+00 0.00000e+00 0.00000e+00 0.00000e+00 0.00000e+00 0.00000e+00\n",
      "  0.00000e+00 0.00000e+00 0.00000e+00 0.00000e+00 2.00000e-06 0.00000e+00\n",
      "  1.60000e-05 3.40000e-05 5.80000e-05 1.52000e-04 3.24000e-04 5.54000e-04\n",
      "  1.00400e-03 1.56600e-03 2.67400e-03 7.67740e-02]\n",
      " [0.00000e+00 0.00000e+00 0.00000e+00 0.00000e+00 0.00000e+00 0.00000e+00\n",
      "  0.00000e+00 0.00000e+00 0.00000e+00 0.00000e+00 0.00000e+00 0.00000e+00\n",
      "  0.00000e+00 0.00000e+00 0.00000e+00 0.00000e+00 0.00000e+00 0.00000e+00\n",
      "  0.00000e+00 0.00000e+00 0.00000e+00 2.00000e-06 2.00000e-06 1.40000e-05\n",
      "  2.20000e-05 3.80000e-05 1.02000e-04 6.20400e-03]\n",
      " [0.00000e+00 0.00000e+00 0.00000e+00 0.00000e+00 0.00000e+00 0.00000e+00\n",
      "  0.00000e+00 0.00000e+00 0.00000e+00 0.00000e+00 0.00000e+00 0.00000e+00\n",
      "  0.00000e+00 0.00000e+00 0.00000e+00 0.00000e+00 0.00000e+00 0.00000e+00\n",
      "  0.00000e+00 0.00000e+00 0.00000e+00 0.00000e+00 0.00000e+00 0.00000e+00\n",
      "  0.00000e+00 0.00000e+00 0.00000e+00 1.80000e-04]\n",
      " [0.00000e+00 0.00000e+00 0.00000e+00 0.00000e+00 0.00000e+00 0.00000e+00\n",
      "  0.00000e+00 0.00000e+00 0.00000e+00 0.00000e+00 0.00000e+00 0.00000e+00\n",
      "  0.00000e+00 0.00000e+00 0.00000e+00 0.00000e+00 0.00000e+00 0.00000e+00\n",
      "  0.00000e+00 0.00000e+00 0.00000e+00 0.00000e+00 0.00000e+00 0.00000e+00\n",
      "  0.00000e+00 0.00000e+00 0.00000e+00 0.00000e+00]]\n"
     ]
    }
   ],
   "source": [
    "print(count / n_rolls)"
   ]
  },
  {
   "cell_type": "code",
   "execution_count": null,
   "metadata": {},
   "outputs": [],
   "source": []
  }
 ],
 "metadata": {
  "kernelspec": {
   "display_name": "Python 3",
   "language": "python",
   "name": "python3"
  },
  "language_info": {
   "codemirror_mode": {
    "name": "ipython",
    "version": 3
   },
   "file_extension": ".py",
   "mimetype": "text/x-python",
   "name": "python",
   "nbconvert_exporter": "python",
   "pygments_lexer": "ipython3",
   "version": "3.7.4"
  }
 },
 "nbformat": 4,
 "nbformat_minor": 4
}
